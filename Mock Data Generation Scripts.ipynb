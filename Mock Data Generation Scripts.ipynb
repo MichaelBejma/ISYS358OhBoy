{
 "cells": [
  {
   "cell_type": "markdown",
   "metadata": {},
   "source": [
    "## Scripts for Creating the Mock Datasets"
   ]
  },
  {
   "cell_type": "code",
   "execution_count": 1,
   "metadata": {},
   "outputs": [],
   "source": [
    "#importing necessary libraries\n",
    "import pandas as pd\n",
    "import random\n",
    "import matplotlib.pyplot as plt\n",
    "import numpy as np\n",
    "import seaborn as sns\n",
    "sns.set()\n",
    "from datetime import datetime, timedelta\n",
    "%matplotlib inline\n",
    "\n",
    "#disabling warnings for cleaner presentation\n",
    "import warnings\n",
    "warnings.filterwarnings(\"ignore\")\n",
    "\n",
    "#importing dataframes with pre-established .csv formats\n",
    "cus_df = pd.read_csv('mock_data/mock_client.csv',sep=';')\n",
    "acc_df = pd.read_csv('mock_data/mock_account.csv',sep=';')\n",
    "trans_df = pd.read_csv('mock_data/mock_trans.csv',sep=';')"
   ]
  },
  {
   "cell_type": "markdown",
   "metadata": {},
   "source": [
    "### Functions for Creating Customer Data\n",
    "Customer data is the most independant dataset, and contains little overlap with the others. To create the data, each of the fields are randomised from a procured list of options. Using the script, as many customers as desired can be created. After the customer data is built, the account data can be created, followed by the transaction data.\n",
    "\n",
    "Currently, the data is not weighted towards a specific outcome, and generates random values. The outputs may not be considered fairly realistic, however serve as a good basis for our research.\n",
    "\n",
    "### Customer Data\n",
    "\n",
    "**client_id:**  The unique ID given to the customer.<br/>\n",
    "**first_name:** The customer's first name. <br/>\n",
    "**last_name:**  The customer's last name. <br/>\n",
    "**dob:**        The customer's date of birth. <br/>\n",
    "**join_date:**  The date the customer signed up to the bank. <br/>\n",
    "**postcode:**   The customer's postcode (used for location identification). <br/>"
   ]
  },
  {
   "cell_type": "code",
   "execution_count": 2,
   "metadata": {},
   "outputs": [],
   "source": [
    "def create_customer_data(cus_df,num_records):\n",
    "    \"\"\"\n",
    "    This function generates a dataframe that contains a specified number of randomised customers.\n",
    "    \"\"\"\n",
    "    \n",
    "    i = 0\n",
    "    \n",
    "    while i < num_records:      \n",
    "        #giving customers names\n",
    "        cus_df.at[i,'first_name'] = choose_random(firstnames)\n",
    "        cus_df.at[i,'last_name'] = choose_random(lastnames)\n",
    "        \n",
    "        #giving customers dates of birth\n",
    "        cus_df.at[i,'dob'] = generate_datetime(1985,2001)\n",
    "        \n",
    "        #giving customers join date\n",
    "        cus_df.at[i,'join_date'] = generate_datetime(2017,2019)\n",
    "        #creating join date based off birthday\n",
    "        #cus_df.at[i,'join_date'] = generate_datetime(cus_df.at[i,'dob'].year+18,2019)\n",
    "        \n",
    "        #giving customers postcodes\n",
    "        cus_df.at[i,'postcode'] = choose_random(postcodes)\n",
    "        \n",
    "        #increment\n",
    "        i+=1\n",
    "        \n",
    "    #sorting by date\n",
    "    cus_df = cus_df.sort_values(by=['join_date'])\n",
    "    \n",
    "    #resetting index\n",
    "    cus_df = cus_df.reset_index(drop=True)\n",
    "    \n",
    "    #loop to give ids in chronological order\n",
    "    i = 0\n",
    "    while i < cus_df.shape[0]:\n",
    "        cus_df.at[i,'client_id'] = i+1\n",
    "        i+=1\n",
    "    \n",
    "    #making account ID the index of the dataframe\n",
    "    cus_df = cus_df.set_index(\"client_id\", drop = True)\n",
    "        \n",
    "    return cus_df"
   ]
  },
  {
   "cell_type": "markdown",
   "metadata": {},
   "source": [
    "### Account Data\n",
    "\n",
    "**account_id:** Unique identifier for the account.<br/>\n",
    "**client_id:** The customer to whom the accont belongs.<br/>\n",
    "**account_name:** What the account is named (used for categorising purpose of account).<br/>\n",
    "**date_created:** The date the account was created.<br/>\n",
    "**balance:** The current balance of the account.<br/>"
   ]
  },
  {
   "cell_type": "code",
   "execution_count": 3,
   "metadata": {},
   "outputs": [],
   "source": [
    "def create_account_data(acc_df,cus_df,num_records):\n",
    "    \"\"\"\n",
    "    This function generates a dataframe that contains a specified number of randomised accounts based on\n",
    "    a dataframe of customers.\n",
    "    \"\"\"\n",
    "    \n",
    "    i = 0\n",
    "    \n",
    "    while i < num_records:\n",
    "        #assigning customer IDs to an account\n",
    "        acc_df.at[i,'client_id'] = choose_random(cus_df.index.tolist())\n",
    "        \n",
    "        #giving account a name\n",
    "        #TODO\n",
    "        \n",
    "        #giving account date of creation based on birth date of customer\n",
    "        acc_df.at[i,'date_created'] = generate_datetime(cus_df.at[acc_df.at[i,'client_id'],'join_date'].year,2019)\n",
    "        \n",
    "        #giving account a balance\n",
    "        acc_df.at[i,'balance'] = round(random.uniform(100,10000),2)\n",
    "        \n",
    "        i+=1\n",
    "    \n",
    "    \n",
    "    #sorting by date\n",
    "    acc_df = acc_df.sort_values(by=['date_created'])\n",
    "    \n",
    "    #resetting index\n",
    "    acc_df = acc_df.reset_index(drop=True)\n",
    "    \n",
    "    #loop to give ids in chronological order\n",
    "    i = 0\n",
    "    while i < acc_df.shape[0]:\n",
    "        acc_df.at[i,'account_id'] = i+1\n",
    "        i+=1\n",
    "    \n",
    "    #making account ID the index of the dataframe\n",
    "    acc_df = acc_df.set_index(\"account_id\", drop = True)\n",
    "    \n",
    "    return acc_df"
   ]
  },
  {
   "cell_type": "markdown",
   "metadata": {},
   "source": [
    "### Transaction Data\n",
    "**trans_id:** The unique ID given to every new transaction.<br/>\n",
    "**account_id:** The account ID of the person making the transaction.<br/>\n",
    "**date:** The date the transaction occured.<br/>\n",
    "**merchant_type:** The nature of the transaction.<br/>\n",
    "**operation:** Whether the funds are ingoing or outgoing.<br/>\n",
    "**amount:** The amount of money involved in the transaction.<br/>\n",
    "**new_balance:** The balance after the transaction.<br/>\n",
    "**account_to:** The account ID of the party involved in the transaction receiving the money(for transfers and transactions with vendors).<br/>\n",
    "**account_from:** The account ID of the party involved in the transaction sending the money (for transfers and transactions with vendors).<br/>"
   ]
  },
  {
   "cell_type": "code",
   "execution_count": 39,
   "metadata": {},
   "outputs": [],
   "source": [
    "def create_transaction_data(trans_df,cus_df,acc_df,num_records):\n",
    "    \"\"\"\n",
    "    This function generates a dataframe that contains a specified number of randomised transactions based on\n",
    "    a dataframe of customers and accounts. It returns both the transaction dataframe and account dataframe\n",
    "    because both of these have been updated in this function and the updates must be reflected.\n",
    "    \"\"\"\n",
    "    i = 0\n",
    "    \n",
    "    while i < num_records:\n",
    "        #giving transaction an account number\n",
    "        trans_df.at[i,'account_id'] = int(choose_random(acc_df.index.tolist()))\n",
    "        \n",
    "        #giving transaction a date\n",
    "        trans_df.at[i,'date'] = generate_datetime(acc_df.at[int(trans_df.at[i,'account_id']),'date_created'].year,2019)\n",
    "        \n",
    "        #giving merchant type of transaction\n",
    "        trans_df.at[i,'merchant_type'] = choose_random(typelist)\n",
    "        \n",
    "        #giving operation of transaction\n",
    "        if trans_df.at[i,'merchant_type'] == 'Income' or trans_df.at[i,'merchant_type'] == 'Transfer to Account':\n",
    "            trans_df.at[i,'operation'] = 'deposit'\n",
    "        else:\n",
    "            trans_df.at[i,'operation'] = 'withdrawal'\n",
    "        \n",
    "        #giving transaction amount\n",
    "        trans_df.at[i,'amount'] = round(random.uniform(1,100),2)\n",
    "        \n",
    "        #giving initial balance amount\n",
    "        trans_df.at[i,'new_balance'] = acc_df.at[int(trans_df.at[i,'account_id']),'balance']\n",
    "        \n",
    "        i+=1\n",
    "    \n",
    "    #sorting by date\n",
    "    trans_df = trans_df.sort_values(by=['date'])\n",
    "    \n",
    "    #resetting index\n",
    "    trans_df = trans_df.reset_index(drop=True)\n",
    "    \n",
    "    #loop to give ids in chronological order\n",
    "    i = 0\n",
    "    while i < trans_df.shape[0]:\n",
    "        trans_df.at[i,'trans_id'] = i+1\n",
    "        #updating balance to reflect transaction\n",
    "        if trans_df.at[i,'operation'] == 'deposit':\n",
    "            acc_df.at[int(trans_df.at[i,'account_id']),'balance'] = (acc_df.at[int(trans_df.at[i,'account_id']),'balance']  \n",
    "                                                                     + trans_df.at[i,'amount'])\n",
    "        else:\n",
    "            acc_df.at[int(trans_df.at[i,'account_id']),'balance'] = (acc_df.at[int(trans_df.at[i,'account_id']),'balance']  \n",
    "                                                                     - trans_df.at[i,'amount'])\n",
    "            \n",
    "        trans_df.at[i,'new_balance'] = acc_df.at[int(trans_df.at[i,'account_id']),'balance']\n",
    "        \n",
    "        i+=1\n",
    "    \n",
    "    #making transaction ID the index of the dataframe\n",
    "    trans_df = trans_df.set_index(\"trans_id\", drop = True)\n",
    "    \n",
    "    #returning the edited dataframes as a list to be allocated once passed\n",
    "    newlist = [trans_df,acc_df]\n",
    "    \n",
    "    return newlist"
   ]
  },
  {
   "cell_type": "markdown",
   "metadata": {},
   "source": [
    "### Additional Functions and Declarations For Creating the Datasets"
   ]
  },
  {
   "cell_type": "code",
   "execution_count": 6,
   "metadata": {},
   "outputs": [],
   "source": [
    "#declaring some lists to choose items from in the function calls above\n",
    "#can be replaced with more comprehensive lists kept in files\n",
    "firstnames = ['Alex','Barney','Charles','Dane','Ernie','Frank','Gerry','Harry','Indigo','Jack','Katie','Lucy','Marty','Nick',\n",
    "             'Oliver','Peter','Queen','Ray','Sam','Tim','Ulena','Veronica','Wendy','Xavier','Yana','Zeke']\n",
    "lastnames = ['Alpha','Bravo','Charlie','Delta','Echo','Foxtrot','Golf','Hotel','India','Juliet','Kilo','Lima','Mike','November'\n",
    "            ,'Oscar','Papa','Quebec','Romeo','Sierra','Tango','Uniform','Victor','Whiskey','X-Ray','Yankee','Zulu']\n",
    "postcodes = [2000,2100,2200,2300,2400,2500,2600,2700,2800,2900,3000,3100,3200,3300,3400]\n",
    "typelist = ['Fuel','Groceries','Food','Entertainment','Shopping','Health','Uncategorised','Income',\n",
    "            'Transfer to Account','Transfer from Account']\n",
    "typelistSpending = ['Fuel','Groceries','Food','Entertainment','Shopping','Health','Uncategorised']"
   ]
  },
  {
   "cell_type": "code",
   "execution_count": 7,
   "metadata": {},
   "outputs": [],
   "source": [
    "def choose_random(arr):\n",
    "    \"\"\"\n",
    "    This function chooses a random index of an array\n",
    "    \"\"\"\n",
    "    return arr[random.randint(0,len(arr)-1)]\n",
    "\n",
    "def generate_datetime(min_year, max_year):\n",
    "    \"\"\"\n",
    "    Generates a random time between two years\n",
    "    Format: yyyy-mm-dd hh:mm:ss.000000\n",
    "    \"\"\"\n",
    "    start = datetime(min_year, 1, 1, 00, 00, 00)\n",
    "    years = max_year - min_year + 1\n",
    "    end = start + timedelta(days=365 * years)\n",
    "    return (start + (end - start) * random.random()).date()"
   ]
  },
  {
   "cell_type": "markdown",
   "metadata": {},
   "source": [
    "### Data Generation For Testing Purposes"
   ]
  },
  {
   "cell_type": "code",
   "execution_count": 8,
   "metadata": {},
   "outputs": [],
   "source": [
    "cus_df_temp = create_customer_data(cus_df,130)"
   ]
  },
  {
   "cell_type": "code",
   "execution_count": 9,
   "metadata": {},
   "outputs": [],
   "source": [
    "acc_df_temp = create_account_data(acc_df,cus_df_temp,200)"
   ]
  },
  {
   "cell_type": "code",
   "execution_count": 40,
   "metadata": {},
   "outputs": [],
   "source": [
    "temp = create_transaction_data(trans_df,cus_df_temp,acc_df_temp,20000)\n",
    "#assigning the dfs from the returned list\n",
    "trans_df_temp = temp[0]\n",
    "acc_df_temp = temp[1]"
   ]
  },
  {
   "cell_type": "markdown",
   "metadata": {},
   "source": [
    "### Functions To Test and Explore Data"
   ]
  },
  {
   "cell_type": "code",
   "execution_count": null,
   "metadata": {},
   "outputs": [],
   "source": [
    "def return_account_trans(val,trans_df,start_date,end_date):\n",
    "    \"\"\"\n",
    "    This function returns all the transactions an account has made in a certain timeframe.\n",
    "    Note: time range is optional. If not desired, call start_date as 0 and end_date as 0\n",
    "    \"\"\"\n",
    "    df = trans_df[trans_df.account_id == val]\n",
    "    if (start_date != 0) and (end_date != 0):\n",
    "        df['date'] = pd.to_datetime(df['date'])\n",
    "        mask = (df['date'] > start_date) & (df['date'] <= end_date)\n",
    "        df = df.loc[mask]\n",
    "        \n",
    "    return df\n",
    "\n",
    "def return_category_expen(cat,acc_trans,start_date,end_date):\n",
    "    \"\"\"\n",
    "    This function returns the amount spent in a category by an account in a certain timeframe\n",
    "    Note: time range is optional. If not desired, call start_date as 0 and end_date as 0\n",
    "    \"\"\"\n",
    "    df = acc_trans[acc_trans.merchant_type == cat]\n",
    "    if (start_date != 0) and (end_date != 0):\n",
    "        df['date'] = pd.to_datetime(df['date'])\n",
    "        mask = (df['date'] > start_date) & (df['date'] <= end_date)\n",
    "        df = df.loc[mask]\n",
    "        \n",
    "    total = df['amount'].sum() \n",
    "    \n",
    "    return round(total,2) \n",
    "\n",
    "def create_dataframe_spending(acc_trans,start_date,end_date):\n",
    "    \"\"\"\n",
    "    This function creates a new dataframe that displays spending within the typelistSpending categories, accepts time ranges\n",
    "    Note: time range is optional. If not desired, call start_date as 0 and end_date as 0\n",
    "    \"\"\"\n",
    "    df = pd.DataFrame(columns=typelistSpending)\n",
    "    for i in typelistSpending:\n",
    "        df.at[0,i] = return_category_expen(i,acc_trans,start_date,end_date)\n",
    "        \n",
    "    return df\n",
    "\n",
    "def calculate_average_spending(trans_df,start_date,end_date):\n",
    "    \"\"\"\n",
    "    This function calculates the average spending in each of the typelistSpending categories based, accepts time ranges.\n",
    "    Note: time range is optional. If not desired, call start_date as 0 and end_date as 0\n",
    "    \"\"\"\n",
    "    tdf_list = trans_df.groupby('account_id')['account_id'].nunique()\n",
    "    tdf = pd.DataFrame(columns=typelistSpending)\n",
    "    for i, row in tdf_list.iteritems():\n",
    "        tdf = tdf.append(create_dataframe_spending(return_account_trans(i,trans_df,start_date,end_date),0,0))\n",
    "    \n",
    "    df = pd.DataFrame(columns=typelistSpending)\n",
    "    for i in typelistSpending:\n",
    "        df.at[0,i] = round(tdf[i].sum()/tdf.shape[0],2)\n",
    "\n",
    "    return df        \n"
   ]
  },
  {
   "cell_type": "code",
   "execution_count": null,
   "metadata": {},
   "outputs": [],
   "source": [
    "#test script: what was the expenditure for account 21 in January of 2018?\n",
    "print(return_account_trans(21,trans_df_temp,datetime(2018, 1, 1),datetime(2018, 1, 31)))"
   ]
  },
  {
   "cell_type": "code",
   "execution_count": null,
   "metadata": {},
   "outputs": [],
   "source": [
    "#test script: how much did account 10 spend on fuel between 1st of January and 1st of July in 2018?\n",
    "temp_df = return_account_trans(10,trans_df_temp,0,0)\n",
    "print('$',return_category_expen('Fuel',temp_df,datetime(2018, 1, 1),datetime(2018, 7, 1)))"
   ]
  },
  {
   "cell_type": "code",
   "execution_count": null,
   "metadata": {},
   "outputs": [],
   "source": [
    "#est script: how much has account 5 spent in each area in the history of their account?\n",
    "temp_df = return_account_trans(5,trans_df_temp,0,0)\n",
    "print(create_dataframe_spending(temp_df,0,0))"
   ]
  },
  {
   "cell_type": "code",
   "execution_count": null,
   "metadata": {},
   "outputs": [],
   "source": [
    "#test script: the average spending of all combined accounts\n",
    "print(calculate_average_spending(trans_df_temp,0,0))"
   ]
  },
  {
   "cell_type": "markdown",
   "metadata": {},
   "source": [
    "### Charts for Exploring Data"
   ]
  },
  {
   "cell_type": "code",
   "execution_count": null,
   "metadata": {},
   "outputs": [],
   "source": [
    "def balance_time_series(df):\n",
    "    \"\"\"\n",
    "    This function displays a simple time series plot of a customer's balance over time.\n",
    "    Can be combined with other functions (such as return_account_trans) to restrict dates.\n",
    "    Modular function which can accept any variation on the trans_df dataframe.\n",
    "    \"\"\"\n",
    "    df.plot(x='date',y='new_balance')\n",
    "      \n",
    "def radar_chart_categories(df):\n",
    "    \"\"\"\n",
    "    This function displays a radar chart based on the df created from create_dataframe_spending()\n",
    "    A radar chart will show the distribution of spending in each of the spending categories\n",
    "    \"\"\"\n",
    "    labels = np.array(typelistSpending)\n",
    "    vals = df.loc[0,labels].values\n",
    "    angles = np.linspace(0, 2*np.pi, len(labels), endpoint=False)\n",
    "\n",
    "    vals = np.concatenate((vals,[vals[0]]))\n",
    "    angles = np.concatenate((angles,[angles[0]]))\n",
    "    \n",
    "    #making the figure\n",
    "    fig = plt.figure(figsize=[6,6], dpi=150)\n",
    "    ax = fig.add_subplot(111, polar=True)\n",
    "    ax.plot(angles, vals, 'o-', linewidth=2)\n",
    "    ax.fill(angles, vals, alpha=0.25)\n",
    "    ax.set_thetagrids(angles * 180/np.pi, labels)\n",
    "    ax.set_title(\"Spending\")\n",
    "    ax.grid(True)"
   ]
  },
  {
   "cell_type": "code",
   "execution_count": null,
   "metadata": {},
   "outputs": [],
   "source": [
    "#test script: the balance of account 1 from 2017 to 2018\n",
    "balance_time_series(return_account_trans(1,trans_df_temp,datetime(2017, 1, 1),datetime(2017, 12, 31)))"
   ]
  },
  {
   "cell_type": "code",
   "execution_count": null,
   "metadata": {},
   "outputs": [],
   "source": [
    "#test script: radar chart of account 20 spending in 2018\n",
    "temp_df = return_account_trans(20,trans_df_temp,datetime(2018, 1, 1),datetime(2018, 12, 31))\n",
    "radar_chart_categories(create_dataframe_spending(temp_df,0,0))"
   ]
  },
  {
   "cell_type": "code",
   "execution_count": null,
   "metadata": {},
   "outputs": [],
   "source": [
    "#test script: radar chart of average spending in all accounts\n",
    "radar_chart_categories(calculate_average_spending(trans_df_temp,0,0))"
   ]
  },
  {
   "cell_type": "code",
   "execution_count": null,
   "metadata": {},
   "outputs": [],
   "source": []
  }
 ],
 "metadata": {
  "kernelspec": {
   "display_name": "Python 3",
   "language": "python",
   "name": "python3"
  },
  "language_info": {
   "codemirror_mode": {
    "name": "ipython",
    "version": 3
   },
   "file_extension": ".py",
   "mimetype": "text/x-python",
   "name": "python",
   "nbconvert_exporter": "python",
   "pygments_lexer": "ipython3",
   "version": "3.6.5"
  }
 },
 "nbformat": 4,
 "nbformat_minor": 2
}
